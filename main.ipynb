{
 "cells": [
  {
   "cell_type": "code",
   "execution_count": 1,
   "metadata": {},
   "outputs": [],
   "source": [
    "import numpy as np\n",
    "import matplotlib.pyplot as plt\n",
    "import pandas as pd\n",
    "import os\n",
    "\n",
    "from model import SIRModel"
   ]
  },
  {
   "cell_type": "code",
   "execution_count": 2,
   "metadata": {},
   "outputs": [
    {
     "data": {
      "image/png": "[encoded data removed]",
      "text/plain": [
       "<Figure size 432x288 with 1 Axes>"
      ]
     },
     "metadata": {
      "needs_background": "light"
     },
     "output_type": "display_data"
    }
   ],
   "source": [
    "BETA=1.0\n",
    "GAMMA=1/4\n",
    "model=SIRModel(beta=BETA,gamma=GAMMA)\n",
    "t=np.arange(0,100)\n",
    "S0=10000\n",
    "I0=1\n",
    "R0=0\n",
    "y_0=[S0,I0,R0]\n",
    "y_t=model.predict(t,y_0)\n",
    "\n",
    "plt.plot(t,y_t[0])\n",
    "plt.plot(t,y_t[1])\n",
    "plt.plot(t,y_t[2])\n",
    "plt.plot(t,y_t[0]+y_t[1]+y_t[2],\"r--\")\n",
    "plt.show()"
   ]
  },
  {
   "cell_type": "code",
   "execution_count": 3,
   "metadata": {},
   "outputs": [
    {
     "name": "stdout",
     "output_type": "stream",
     "text": [
      "p=0.9999999999999999 ; p=0.25\n"
     ]
    }
   ],
   "source": [
    "model.beta_=0.90\n",
    "model.gamma_=0.22\n",
    "N=S0+I0\n",
    "I=y_t[1]\n",
    "R0=y_t[2][0]\n",
    "model.fit(t, y_t, N)\n",
    "print(model)\n",
    "assert np.allclose(model.params, (BETA, GAMMA))"
   ]
  },
  {
   "cell_type": "code",
   "execution_count": 4,
   "metadata": {},
   "outputs": [
    {
     "name": "stdout",
     "output_type": "stream",
     "text": [
      "true value BETA = 1.0 ~ 0.9999999999999999  +/- 7.788047323887707e-17\n",
      "true value GAMMA = 0.25 ~ 0.25  +/- 5.872822759184539e-17\n"
     ]
    }
   ],
   "source": [
    "param_names=(\"BETA\",\"GAMMA\")\n",
    "true_parms=(BETA,GAMMA)\n",
    "for i, (p,true_p, name) in enumerate(zip(model.params,true_parms,param_names)):\n",
    "    print( f\"true value {name} = {true_p} ~ {p}  +/- {np.sqrt(model.params_cov_[i,i])}\")"
   ]
  },
  {
   "cell_type": "markdown",
   "metadata": {},
   "source": [
    "# Fit model à un jeu de donnée"
   ]
  },
  {
   "cell_type": "code",
   "execution_count": 5,
   "metadata": {},
   "outputs": [
    {
     "data": {
      "text/html": [
       "<div>\n",
       "<style scoped>\n",
       "    .dataframe tbody tr th:only-of-type {\n",
       "        vertical-align: middle;\n",
       "    }\n",
       "\n",
       "    .dataframe tbody tr th {\n",
       "        vertical-align: top;\n",
       "    }\n",
       "\n",
       "    .dataframe thead th {\n",
       "        text-align: right;\n",
       "    }\n",
       "</style>\n",
       "<table border=\"1\" class=\"dataframe\">\n",
       "  <thead>\n",
       "    <tr style=\"text-align: right;\">\n",
       "      <th></th>\n",
       "      <th>nb_pos</th>\n",
       "      <th>recovered</th>\n",
       "      <th>infected</th>\n",
       "    </tr>\n",
       "    <tr>\n",
       "      <th>jour</th>\n",
       "      <th></th>\n",
       "      <th></th>\n",
       "      <th></th>\n",
       "    </tr>\n",
       "  </thead>\n",
       "  <tbody>\n",
       "    <tr>\n",
       "      <th>2020-03-18</th>\n",
       "      <td>14441.0</td>\n",
       "      <td>2062.0</td>\n",
       "      <td>12379.0</td>\n",
       "    </tr>\n",
       "    <tr>\n",
       "      <th>2020-03-19</th>\n",
       "      <td>21798.0</td>\n",
       "      <td>2964.0</td>\n",
       "      <td>18834.0</td>\n",
       "    </tr>\n",
       "    <tr>\n",
       "      <th>2020-03-20</th>\n",
       "      <td>31640.0</td>\n",
       "      <td>4018.0</td>\n",
       "      <td>27622.0</td>\n",
       "    </tr>\n",
       "    <tr>\n",
       "      <th>2020-03-21</th>\n",
       "      <td>35336.0</td>\n",
       "      <td>4621.0</td>\n",
       "      <td>30715.0</td>\n",
       "    </tr>\n",
       "    <tr>\n",
       "      <th>2020-03-22</th>\n",
       "      <td>38836.0</td>\n",
       "      <td>5439.0</td>\n",
       "      <td>33397.0</td>\n",
       "    </tr>\n",
       "    <tr>\n",
       "      <th>2020-03-23</th>\n",
       "      <td>56812.0</td>\n",
       "      <td>6791.0</td>\n",
       "      <td>50021.0</td>\n",
       "    </tr>\n",
       "    <tr>\n",
       "      <th>2020-03-24</th>\n",
       "      <td>76139.0</td>\n",
       "      <td>8700.0</td>\n",
       "      <td>67439.0</td>\n",
       "    </tr>\n",
       "    <tr>\n",
       "      <th>2020-03-25</th>\n",
       "      <td>95137.0</td>\n",
       "      <td>10876.0</td>\n",
       "      <td>84261.0</td>\n",
       "    </tr>\n",
       "    <tr>\n",
       "      <th>2020-03-26</th>\n",
       "      <td>117019.0</td>\n",
       "      <td>13206.0</td>\n",
       "      <td>103813.0</td>\n",
       "    </tr>\n",
       "    <tr>\n",
       "      <th>2020-03-27</th>\n",
       "      <td>139223.0</td>\n",
       "      <td>15303.0</td>\n",
       "      <td>123920.0</td>\n",
       "    </tr>\n",
       "    <tr>\n",
       "      <th>2020-03-28</th>\n",
       "      <td>146517.0</td>\n",
       "      <td>17779.0</td>\n",
       "      <td>128738.0</td>\n",
       "    </tr>\n",
       "    <tr>\n",
       "      <th>2020-03-29</th>\n",
       "      <td>149709.0</td>\n",
       "      <td>19374.0</td>\n",
       "      <td>130335.0</td>\n",
       "    </tr>\n",
       "    <tr>\n",
       "      <th>2020-03-30</th>\n",
       "      <td>176421.0</td>\n",
       "      <td>21781.0</td>\n",
       "      <td>154640.0</td>\n",
       "    </tr>\n",
       "    <tr>\n",
       "      <th>2020-03-31</th>\n",
       "      <td>201439.0</td>\n",
       "      <td>25803.0</td>\n",
       "      <td>175636.0</td>\n",
       "    </tr>\n",
       "    <tr>\n",
       "      <th>2020-04-01</th>\n",
       "      <td>221970.0</td>\n",
       "      <td>29782.0</td>\n",
       "      <td>192188.0</td>\n",
       "    </tr>\n",
       "    <tr>\n",
       "      <th>2020-04-02</th>\n",
       "      <td>244027.0</td>\n",
       "      <td>33695.0</td>\n",
       "      <td>210332.0</td>\n",
       "    </tr>\n",
       "    <tr>\n",
       "      <th>2020-04-03</th>\n",
       "      <td>267358.0</td>\n",
       "      <td>38015.0</td>\n",
       "      <td>229343.0</td>\n",
       "    </tr>\n",
       "    <tr>\n",
       "      <th>2020-04-04</th>\n",
       "      <td>272188.0</td>\n",
       "      <td>41741.0</td>\n",
       "      <td>230447.0</td>\n",
       "    </tr>\n",
       "    <tr>\n",
       "      <th>2020-04-05</th>\n",
       "      <td>273868.0</td>\n",
       "      <td>43943.0</td>\n",
       "      <td>229925.0</td>\n",
       "    </tr>\n",
       "    <tr>\n",
       "      <th>2020-04-06</th>\n",
       "      <td>294896.0</td>\n",
       "      <td>47274.0</td>\n",
       "      <td>247622.0</td>\n",
       "    </tr>\n",
       "    <tr>\n",
       "      <th>2020-04-07</th>\n",
       "      <td>314902.0</td>\n",
       "      <td>52612.0</td>\n",
       "      <td>262290.0</td>\n",
       "    </tr>\n",
       "    <tr>\n",
       "      <th>2020-04-08</th>\n",
       "      <td>338562.0</td>\n",
       "      <td>57509.0</td>\n",
       "      <td>281053.0</td>\n",
       "    </tr>\n",
       "    <tr>\n",
       "      <th>2020-04-09</th>\n",
       "      <td>360682.0</td>\n",
       "      <td>62222.0</td>\n",
       "      <td>298460.0</td>\n",
       "    </tr>\n",
       "    <tr>\n",
       "      <th>2020-04-10</th>\n",
       "      <td>387681.0</td>\n",
       "      <td>66761.0</td>\n",
       "      <td>320920.0</td>\n",
       "    </tr>\n",
       "    <tr>\n",
       "      <th>2020-04-11</th>\n",
       "      <td>391069.0</td>\n",
       "      <td>70353.0</td>\n",
       "      <td>320716.0</td>\n",
       "    </tr>\n",
       "    <tr>\n",
       "      <th>2020-04-12</th>\n",
       "      <td>392063.0</td>\n",
       "      <td>72550.0</td>\n",
       "      <td>319513.0</td>\n",
       "    </tr>\n",
       "    <tr>\n",
       "      <th>2020-04-13</th>\n",
       "      <td>394947.0</td>\n",
       "      <td>74276.0</td>\n",
       "      <td>320671.0</td>\n",
       "    </tr>\n",
       "    <tr>\n",
       "      <th>2020-04-14</th>\n",
       "      <td>414862.0</td>\n",
       "      <td>77514.0</td>\n",
       "      <td>337348.0</td>\n",
       "    </tr>\n",
       "    <tr>\n",
       "      <th>2020-04-15</th>\n",
       "      <td>431795.0</td>\n",
       "      <td>82820.0</td>\n",
       "      <td>348975.0</td>\n",
       "    </tr>\n",
       "    <tr>\n",
       "      <th>2020-04-16</th>\n",
       "      <td>446943.0</td>\n",
       "      <td>87338.0</td>\n",
       "      <td>359605.0</td>\n",
       "    </tr>\n",
       "    <tr>\n",
       "      <th>2020-04-17</th>\n",
       "      <td>460369.0</td>\n",
       "      <td>91362.0</td>\n",
       "      <td>369007.0</td>\n",
       "    </tr>\n",
       "    <tr>\n",
       "      <th>2020-04-18</th>\n",
       "      <td>462959.0</td>\n",
       "      <td>95202.0</td>\n",
       "      <td>367757.0</td>\n",
       "    </tr>\n",
       "    <tr>\n",
       "      <th>2020-04-19</th>\n",
       "      <td>463407.0</td>\n",
       "      <td>96835.0</td>\n",
       "      <td>366572.0</td>\n",
       "    </tr>\n",
       "    <tr>\n",
       "      <th>2020-04-20</th>\n",
       "      <td>472633.0</td>\n",
       "      <td>99375.0</td>\n",
       "      <td>373258.0</td>\n",
       "    </tr>\n",
       "    <tr>\n",
       "      <th>2020-04-21</th>\n",
       "      <td>482342.0</td>\n",
       "      <td>103681.0</td>\n",
       "      <td>378661.0</td>\n",
       "    </tr>\n",
       "    <tr>\n",
       "      <th>2020-04-22</th>\n",
       "      <td>490742.0</td>\n",
       "      <td>107284.0</td>\n",
       "      <td>383458.0</td>\n",
       "    </tr>\n",
       "    <tr>\n",
       "      <th>2020-04-23</th>\n",
       "      <td>498918.0</td>\n",
       "      <td>110745.0</td>\n",
       "      <td>388173.0</td>\n",
       "    </tr>\n",
       "    <tr>\n",
       "      <th>2020-04-24</th>\n",
       "      <td>505512.0</td>\n",
       "      <td>114151.0</td>\n",
       "      <td>391361.0</td>\n",
       "    </tr>\n",
       "    <tr>\n",
       "      <th>2020-04-25</th>\n",
       "      <td>506436.0</td>\n",
       "      <td>116743.0</td>\n",
       "      <td>389693.0</td>\n",
       "    </tr>\n",
       "    <tr>\n",
       "      <th>2020-04-26</th>\n",
       "      <td>506618.0</td>\n",
       "      <td>117660.0</td>\n",
       "      <td>388958.0</td>\n",
       "    </tr>\n",
       "    <tr>\n",
       "      <th>2020-04-27</th>\n",
       "      <td>510608.0</td>\n",
       "      <td>119464.0</td>\n",
       "      <td>391144.0</td>\n",
       "    </tr>\n",
       "    <tr>\n",
       "      <th>2020-04-28</th>\n",
       "      <td>515270.0</td>\n",
       "      <td>121471.0</td>\n",
       "      <td>393799.0</td>\n",
       "    </tr>\n",
       "    <tr>\n",
       "      <th>2020-04-29</th>\n",
       "      <td>520051.0</td>\n",
       "      <td>126257.0</td>\n",
       "      <td>393794.0</td>\n",
       "    </tr>\n",
       "    <tr>\n",
       "      <th>2020-04-30</th>\n",
       "      <td>523327.0</td>\n",
       "      <td>129124.0</td>\n",
       "      <td>394203.0</td>\n",
       "    </tr>\n",
       "    <tr>\n",
       "      <th>2020-05-01</th>\n",
       "      <td>523355.0</td>\n",
       "      <td>130830.0</td>\n",
       "      <td>392525.0</td>\n",
       "    </tr>\n",
       "    <tr>\n",
       "      <th>2020-05-02</th>\n",
       "      <td>523747.0</td>\n",
       "      <td>131763.0</td>\n",
       "      <td>391984.0</td>\n",
       "    </tr>\n",
       "    <tr>\n",
       "      <th>2020-05-03</th>\n",
       "      <td>523873.0</td>\n",
       "      <td>132398.0</td>\n",
       "      <td>391475.0</td>\n",
       "    </tr>\n",
       "  </tbody>\n",
       "</table>\n",
       "</div>"
      ],
      "text/plain": [
       "              nb_pos  recovered  infected\n",
       "jour                                     \n",
       "2020-03-18   14441.0     2062.0   12379.0\n",
       "2020-03-19   21798.0     2964.0   18834.0\n",
       "2020-03-20   31640.0     4018.0   27622.0\n",
       "2020-03-21   35336.0     4621.0   30715.0\n",
       "2020-03-22   38836.0     5439.0   33397.0\n",
       "2020-03-23   56812.0     6791.0   50021.0\n",
       "2020-03-24   76139.0     8700.0   67439.0\n",
       "2020-03-25   95137.0    10876.0   84261.0\n",
       "2020-03-26  117019.0    13206.0  103813.0\n",
       "2020-03-27  139223.0    15303.0  123920.0\n",
       "2020-03-28  146517.0    17779.0  128738.0\n",
       "2020-03-29  149709.0    19374.0  130335.0\n",
       "2020-03-30  176421.0    21781.0  154640.0\n",
       "2020-03-31  201439.0    25803.0  175636.0\n",
       "2020-04-01  221970.0    29782.0  192188.0\n",
       "2020-04-02  244027.0    33695.0  210332.0\n",
       "2020-04-03  267358.0    38015.0  229343.0\n",
       "2020-04-04  272188.0    41741.0  230447.0\n",
       "2020-04-05  273868.0    43943.0  229925.0\n",
       "2020-04-06  294896.0    47274.0  247622.0\n",
       "2020-04-07  314902.0    52612.0  262290.0\n",
       "2020-04-08  338562.0    57509.0  281053.0\n",
       "2020-04-09  360682.0    62222.0  298460.0\n",
       "2020-04-10  387681.0    66761.0  320920.0\n",
       "2020-04-11  391069.0    70353.0  320716.0\n",
       "2020-04-12  392063.0    72550.0  319513.0\n",
       "2020-04-13  394947.0    74276.0  320671.0\n",
       "2020-04-14  414862.0    77514.0  337348.0\n",
       "2020-04-15  431795.0    82820.0  348975.0\n",
       "2020-04-16  446943.0    87338.0  359605.0\n",
       "2020-04-17  460369.0    91362.0  369007.0\n",
       "2020-04-18  462959.0    95202.0  367757.0\n",
       "2020-04-19  463407.0    96835.0  366572.0\n",
       "2020-04-20  472633.0    99375.0  373258.0\n",
       "2020-04-21  482342.0   103681.0  378661.0\n",
       "2020-04-22  490742.0   107284.0  383458.0\n",
       "2020-04-23  498918.0   110745.0  388173.0\n",
       "2020-04-24  505512.0   114151.0  391361.0\n",
       "2020-04-25  506436.0   116743.0  389693.0\n",
       "2020-04-26  506618.0   117660.0  388958.0\n",
       "2020-04-27  510608.0   119464.0  391144.0\n",
       "2020-04-28  515270.0   121471.0  393799.0\n",
       "2020-04-29  520051.0   126257.0  393794.0\n",
       "2020-04-30  523327.0   129124.0  394203.0\n",
       "2020-05-01  523355.0   130830.0  392525.0\n",
       "2020-05-02  523747.0   131763.0  391984.0\n",
       "2020-05-03  523873.0   132398.0  391475.0"
      ]
     },
     "execution_count": 5,
     "metadata": {},
     "output_type": "execute_result"
    }
   ],
   "source": [
    "#chargement et transformation des données \n",
    "\n",
    "data_dir = 'data'\n",
    "\n",
    "#Load data\n",
    "tests_depistage_latest = pd.read_csv(os.path.join(data_dir,\n",
    "                                                  'donnees-tests-covid19-labo-quotidien-2020-05-06-19h00.csv'),\n",
    "                                     sep=';')\n",
    "\n",
    "hospital_latest = pd.read_csv(os.path.join(data_dir, 'donnees-hospitalieres-covid19-2020-05-05-19h00.csv'),\n",
    "                              sep=';')\n",
    "\n",
    "tests_depistage_latest['jour'] =  pd.to_datetime(tests_depistage_latest['jour'], format='%Y-%m-%d')\n",
    "aggr_tests_latest=tests_depistage_latest.groupby(['jour']).sum()\n",
    "aggr_tests_latest['nb_pos']=aggr_tests_latest['nb_pos'].cumsum() * 7\n",
    "\n",
    "hospital_latest['jour'] =  pd.to_datetime(hospital_latest['jour'], format='%Y-%m-%d')\n",
    "aggr_hospital_latest=hospital_latest.groupby(['jour']).sum()\n",
    "aggr_hospital_latest['recovered'] = aggr_hospital_latest[['rad', 'dc']].sum(axis=1)\n",
    "\n",
    "data = pd.concat([aggr_tests_latest.nb_pos,\n",
    "                     aggr_hospital_latest.recovered], axis=1)\n",
    "data['infected'] = data.nb_pos.sub(data.recovered)\n",
    "data = data['2020-03-18':'2020-05-03']\n",
    "data"
   ]
  },
  {
   "cell_type": "code",
   "execution_count": 6,
   "metadata": {},
   "outputs": [
    {
     "data": {
      "image/png": "[encoded data removed]",
      "text/plain": [
       "<Figure size 432x288 with 1 Axes>"
      ]
     },
     "metadata": {
      "needs_background": "light"
     },
     "output_type": "display_data"
    }
   ],
   "source": [
    "plot_cols = ['nb_pos', 'infected', 'recovered']\n",
    "plt.title('Données')\n",
    "plt.plot(data[plot_cols])\n",
    "plt.ylabel('number people')\n",
    "plt.xlabel('date')\n",
    "plt.xticks(rotation=90)\n",
    "plt.legend(plot_cols)\n",
    "plt.show()"
   ]
  },
  {
   "cell_type": "markdown",
   "metadata": {},
   "source": [
    "## Modele SIR"
   ]
  },
  {
   "cell_type": "code",
   "execution_count": 7,
   "metadata": {},
   "outputs": [],
   "source": [
    "BETA=1.0\n",
    "GAMMA=1/4\n",
    "DELTA=1\n",
    "\n",
    "#adapter t à l'intervalle de nos données \n",
    "delta=aggr_tests_latest.index.max()-aggr_tests_latest.index.min()\n",
    "t=np.arange(0,aggr_tests_latest.shape[0])\n",
    "\n",
    "N=1000000 #population en France\n",
    "I=aggr_tests_latest['nb_pos']\n",
    "y = [N, I, 0]\n",
    "y_0 = [N, I[0], 0]"
   ]
  },
  {
   "cell_type": "code",
   "execution_count": 8,
   "metadata": {
    "scrolled": false
   },
   "outputs": [
    {
     "name": "stdout",
     "output_type": "stream",
     "text": [
      "55\n",
      "p=0.3301626511635718 ; p=0.046336844341131646\n"
     ]
    },
    {
     "data": {
      "image/png": "[encoded data removed]",
      "text/plain": [
       "<Figure size 432x288 with 1 Axes>"
      ]
     },
     "metadata": {
      "needs_background": "light"
     },
     "output_type": "display_data"
    }
   ],
   "source": [
    "model=SIRModel(beta=BETA,gamma=GAMMA, N = N)\n",
    "print(len(y[1]))\n",
    "y_t = model.fit(t, y, N).predict(t, y_0)\n",
    "print(model)\n",
    "\n",
    "plt.plot(t,y_t[0])\n",
    "plt.plot(t,y_t[1])\n",
    "plt.plot(t,y_t[2])\n",
    "plt.plot(t,y_t[0]+y_t[1]+y_t[2],\"r--\")\n",
    "plt.show()"
   ]
  },
  {
   "cell_type": "markdown",
   "metadata": {},
   "source": [
    "## Modele SEIR"
   ]
  },
  {
   "cell_type": "code",
   "execution_count": 9,
   "metadata": {},
   "outputs": [],
   "source": [
    "from model import SEIRModel as SEIR\n",
    "from model import SIRModel as SIR"
   ]
  },
  {
   "cell_type": "code",
   "execution_count": 10,
   "metadata": {},
   "outputs": [
    {
     "name": "stdout",
     "output_type": "stream",
     "text": [
      "p=1.0 ; p=0.25 ; p=1.0\n"
     ]
    },
    {
     "data": {
      "image/png": "[encoded data removed]",
      "text/plain": [
       "<Figure size 432x288 with 1 Axes>"
      ]
     },
     "metadata": {
      "needs_background": "light"
     },
     "output_type": "display_data"
    }
   ],
   "source": [
    "model = SEIR(gamma=GAMMA, beta=BETA, delta=DELTA)\n",
    "y_t = model.predict(t, (10000, 10, 0, 0))\n",
    "for y in y_t:\n",
    "    plt.plot(t, y)\n",
    "model.fit(t, y_t)\n",
    "print(model)\n",
    "assert np.allclose(model.params, (BETA, GAMMA, DELTA))"
   ]
  }
 ],
 "metadata": {
  "kernelspec": {
   "display_name": "Python 3",
   "language": "python",
   "name": "python3"
  },
  "language_info": {
   "codemirror_mode": {
    "name": "ipython",
    "version": 3
   },
   "file_extension": ".py",
   "mimetype": "text/x-python",
   "name": "python",
   "nbconvert_exporter": "python",
   "pygments_lexer": "ipython3",
   "version": "3.7.7"
  }
 },
 "nbformat": 4,
 "nbformat_minor": 2
}
